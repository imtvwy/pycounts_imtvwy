from pycounts_imtvwy.plotting import plot_words
from pycounts_imtvwy.pycounts_imtvwy import count_words


quote = "Insanity is doing the same thing over and over and \
             expecting different results."
with open("einstein.txt", "w") as file:
    file.write(quote)


counts = count_words("einstein.txt")
print(counts)


# Plot words
We can now plot the result using the `plot_words()` function:


fig = plot_words(counts, 10)
